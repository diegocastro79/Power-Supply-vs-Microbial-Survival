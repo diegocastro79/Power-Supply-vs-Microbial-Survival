{
 "cells": [
  {
   "cell_type": "markdown",
   "id": "charming-indiana",
   "metadata": {},
   "source": [
    "# This notebook contains functions for generating the plots defined in the Plots_Class notebook"
   ]
  },
  {
   "cell_type": "markdown",
   "id": "protecting-syntax",
   "metadata": {},
   "source": [
    "## Importing libraries and modules"
   ]
  },
  {
   "cell_type": "code",
   "execution_count": null,
   "id": "fancy-torture",
   "metadata": {},
   "outputs": [],
   "source": [
    "import numpy as np\n",
    "import matplotlib.pyplot as plt\n",
    "import scipy.special as sp"
   ]
  },
  {
   "cell_type": "markdown",
   "id": "certain-quick",
   "metadata": {},
   "source": [
    "## Setting the size of the tick labels"
   ]
  },
  {
   "cell_type": "code",
   "execution_count": null,
   "id": "threatened-counter",
   "metadata": {},
   "outputs": [],
   "source": [
    "plt.rc('xtick',labelsize = 15)\n",
    "plt.rc('ytick',labelsize = 15)"
   ]
  },
  {
   "cell_type": "markdown",
   "id": "vertical-monroe",
   "metadata": {},
   "source": [
    "# Plot Functions"
   ]
  },
  {
   "cell_type": "markdown",
   "id": "minor-server",
   "metadata": {},
   "source": [
    "## Function for generating $H_B$ vs $H_P$ plots"
   ]
  },
  {
   "cell_type": "code",
   "execution_count": null,
   "id": "posted-september",
   "metadata": {},
   "outputs": [],
   "source": [
    "def HBvsHP(bio,power,S,\n",
    "           subst_flat,\n",
    "           gibbs_flat,\n",
    "           tradeoff,\n",
    "           PH = False):\n",
    "    \"\"\"\n",
    "     Arguments:\n",
    "     \n",
    "     bio: 3d np.array containing the survival diversity (Shannon index) \n",
    "          for each instance of standard Gibbs energy, number of habitats \n",
    "          and width of the distribution\n",
    "     \n",
    "     power: 3d np.array (the same shape as bio) containing the diversity of power supply (Shannon index) \n",
    "          for each instance of standard Gibbs energy, number of habitats \n",
    "          and width of the distribution\n",
    "     \n",
    "     S: 1d np.array containing all the instances of widths for the \n",
    "        distribution of parameter values. S has shape either (1,) or (4,)\n",
    "     \n",
    "     subst_flat: boolean. True if the distribution for the input substrate is flat. \n",
    "                          False, otherwise\n",
    "     \n",
    "     gibbs_flat: boolean. True if the distribution for the standard Gibbs energy of reactions \n",
    "                          is flat. False, otherwise\n",
    "     \n",
    "     tradeoff: boolean. True if the disrtibutions for uptake rates and maintenance \n",
    "                        powers are both NOT flat. False, otherwise.\n",
    "     \n",
    "     PH: boolean. OPTIONAL\n",
    "               If True, the plots include the pH. The default is False\n",
    "                        \n",
    "    \n",
    "    Returns: The scatter plot of all the pairs of values (H_B,H_P) for each instance of distribution width \n",
    "    \"\"\"\n",
    "    \n",
    "    HB = bio.reshape((-1,len(S))) \n",
    "    HP = power.reshape((-1,len(S))) \n",
    "    # HB[:,s] contains all the values in bio corresponding to the width instance s \n",
    "    # HP[:,s] contains all the values in power corresponding to the width instance s \n",
    "    # in the same order as that of HB[:,s]\n",
    "    Colors = []\n",
    "    for i in range(HB.shape[0]):\n",
    "        ind = int(i/bio.shape[1])\n",
    "        Colors.append([1-ind/bio.shape[0],ind/bio.shape[0],0.2])\n",
    "        \n",
    "    MS = 8 # Marker Size\n",
    "    if (subst_flat & gibbs_flat & (not(tradeoff))):\n",
    "        plt.scatter(HP[:,0],HB[:,0],s=MS,c=Colors,marker='.')\n",
    "        plt.xlabel('$H_P$',fontsize=15)\n",
    "        plt.ylabel('$H_B$',fontsize=15)\n",
    "        if PH:\n",
    "            plt.title('$H_B$ vs $H_P$ along a pH-gradient, $s$='+'{:.3f}'.format(S[0]))\n",
    "        else:\n",
    "            plt.title('$H_B$ vs $H_P$, $s$='+'{:.3f}'.format(S[0]))\n",
    "        plt.show() \n",
    "    else:\n",
    "        if len(S)==1:\n",
    "            plt.scatter(HP[:,0],HB[:,0],s=MS,c=Colors,marker='.')\n",
    "            plt.xlabel('$H_P$',fontsize=15)\n",
    "            plt.ylabel('$H_B$',fontsize=15)\n",
    "            if PH:\n",
    "                plt.title('$H_B$ vs $H_P$ along a pH-gradient, $s$='+'{:.3f}'.format(S[0]))\n",
    "            else:\n",
    "                plt.title('$H_B$ vs $H_P$, $s$='+'{:.3f}'.format(S[0]))\n",
    "            plt.show() \n",
    "        else:\n",
    "            fig,ax = plt.subplots(2,2)\n",
    "            for i in range(len(S)):\n",
    "                ax[int(i/2),i-2*int(i/2)].scatter(HP[:,i],HB[:,i],s=MS,c=Colors,marker='.')\n",
    "                ax[int(i/2),i-2*int(i/2)].set_xlabel('$H_P$',fontsize=15)\n",
    "                ax[int(i/2),i-2*int(i/2)].set_ylabel('$H_B$',fontsize=15)\n",
    "                if PH:\n",
    "                    ax[int(i/2),i-2*int(i/2)].set_title('pH, $s$='+'{:.3f}'.format(S[i]))\n",
    "                else:\n",
    "                    ax[int(i/2),i-2*int(i/2)].set_title('$s$='+'{:.3f}'.format(S[i]))\n",
    "            for a in ax.flat:\n",
    "                a.label_outer() \n",
    "            \n",
    "            plt.show() \n",
    "    return None \n",
    "\n"
   ]
  },
  {
   "cell_type": "markdown",
   "id": "resident-alberta",
   "metadata": {},
   "source": [
    "## PH plots"
   ]
  },
  {
   "cell_type": "code",
   "execution_count": null,
   "id": "fifth-football",
   "metadata": {},
   "outputs": [],
   "source": [
    "def pH_plots(data):\n",
    "    \n",
    "    \"\"\"\n",
    "    Generates the plots for survival probability vs energy scale\n",
    "    when the pH is considered\n",
    "    \n",
    "    Aruments:\n",
    "    ----------\n",
    "    \n",
    "    data : tuple \n",
    "    \n",
    "    \"\"\"\n",
    "    \n",
    "    LS = 15 #label size\n",
    "    pH, abundance, bio_ent, pow_ent, E, signs = data \n",
    "    N = abundance.shape[1]\n",
    "    fig, ax = plt.subplots(2,2,sharex=True)\n",
    "    for l in range(N):\n",
    "        if signs[l] == 1:\n",
    "            ax[0,0].plot(pH,abundance[:,l],'r-',linewidth=2)\n",
    "            ax[1,0].plot(pH,E[:,l],'r-',linewidth=2)\n",
    "        else:\n",
    "            ax[0,0].plot(pH,abundance[:,l],'b-',linewidth=2)\n",
    "            ax[1,0].plot(pH,E[:,l],'b-',linewidth=2)\n",
    "    \n",
    "    ax[0,1].plot(pH,bio_ent,'r-',linewidth=3)\n",
    "    ax[1,1].plot(pH,pow_ent,'r-',linewidth=3)\n",
    "    \n",
    "    ax[0,0].set_xlim([0,14])\n",
    "    ax[0,1].set_xlim([0,14])\n",
    "    ax[1,0].set_xlim([0,14])\n",
    "    ax[1,1].set_xlim([0,14])\n",
    "    \n",
    "    ax[0,0].set_ylabel('$c_i^*\\,\\mathrm{(cell/cm^3)}$',fontsize=LS)\n",
    "    ax[0,1].set_ylabel('$H_B$',fontsize=LS)\n",
    "    ax[1,0].set_ylabel('$-E_{eq}/\\Delta G^0_r$',fontsize=LS)\n",
    "    ax[1,1].set_ylabel('$H_P$',fontsize=LS)\n",
    "    ax[1,0].set_xlabel('$pH$',fontsize=LS)\n",
    "    ax[1,1].set_xlabel('$pH$',fontsize=LS)\n",
    "    \n",
    "    ax[0,0].tick_params(labelsize=10,labelbottom=False)\n",
    "    ax[0,1].tick_params(labelsize=10,labelbottom=False,\n",
    "                        labelleft=False,labelright=True)\n",
    "    ax[1,0].tick_params(labelsize=10)\n",
    "    ax[1,1].tick_params(labelsize=10,labelleft=False,labelright=True)\n",
    "    \n",
    "        \n",
    "    plt.show() \n",
    "    \n",
    "    return None "
   ]
  },
  {
   "cell_type": "markdown",
   "id": "refined-typing",
   "metadata": {},
   "source": [
    "# Model Parameter profiles"
   ]
  },
  {
   "cell_type": "markdown",
   "id": "federal-asbestos",
   "metadata": {},
   "source": [
    "## Uptake rate, $r^i_{max}$, and power demand, $P_{0i}$, profiles:"
   ]
  },
  {
   "cell_type": "code",
   "execution_count": null,
   "id": "regulation-impact",
   "metadata": {},
   "outputs": [],
   "source": [
    "def rp_profiles(data, P0 = 1, rmax = 1):\n",
    "    \"\"\"\n",
    "    Arguments:\n",
    "    \n",
    "    data: tuple containing the elements\n",
    "          (x,n,s,tradeoff)\n",
    "          or\n",
    "          (x,n,s,tradeoff,combined)\n",
    "          where\n",
    "          x: np.array. Contains the values for the x-axis\n",
    "          n: int. Number of species\n",
    "          s: float. Width of the distribution\n",
    "          tradeoff: boolean. True if the distributions \n",
    "                             for r and p are NOT flat.\n",
    "                             False, otherwise\n",
    "          combined: boolean. True if all the parameters follow\n",
    "                             non-flat distributions. False, otherwise\n",
    "    Returns: \n",
    "    \n",
    "    r: np.array containing the values for the uptake parameters\n",
    "    p: np.array containing the values fpr the maintenance power\n",
    "    \"\"\"\n",
    "    \n",
    "    comb = False\n",
    "    if len(data) == 4:\n",
    "        x,n,s,tradeoff = data\n",
    "    else:\n",
    "        x,n,s,tradeoff,comb = data\n",
    "    \n",
    "    if comb:\n",
    "        r = np.exp(-(x-n/2)**2/(s**2*n**2/2))+1/100\n",
    "        p = np.exp(-(x-n/2)**2/(s**2*n**2/2))+1/20\n",
    "    else:\n",
    "        if tradeoff:\n",
    "            r = np.exp(-(x-n/2)**2/(s**2*n**2))+1/100\n",
    "            p = np.exp(-(x-n/2)**2/(s**2*n**2))+1/20\n",
    "        else:\n",
    "            r = np.ones(n)\n",
    "            p = np.ones(n)\n",
    "    \n",
    "    return rmax*r,P0*p\n",
    "\n"
   ]
  },
  {
   "cell_type": "markdown",
   "id": "outstanding-hours",
   "metadata": {},
   "source": [
    "## Input substrate concentration profile: $S_{0i}$"
   ]
  },
  {
   "cell_type": "code",
   "execution_count": null,
   "id": "comparative-scanner",
   "metadata": {},
   "outputs": [],
   "source": [
    "def subst_profile(x,n,s,\n",
    "                subst_flat,\n",
    "                S0 = 1):\n",
    "    \n",
    "    \"\"\"\n",
    "    Arguments:\n",
    "    \n",
    "    x: np.array. Contains the values for the x-axis\n",
    "    n: int. Number of species\n",
    "    s: float. Width of the distribution\n",
    "    subst_flat: boolean. True if the distribution \n",
    "                       for the input substrate concentration is flat.\n",
    "                       False, otherwise\n",
    "    Returns: \n",
    "    \n",
    "    S: np.array containing the values for the input substrate concentrations\n",
    "    \"\"\"\n",
    "    \n",
    "    if subst_flat:\n",
    "        S = 1.2*np.ones(n)\n",
    "    else:\n",
    "        S = 10**3*np.exp(-(x-n/2)**2/(s**2*n**2))+1.2\n",
    "            \n",
    "    return S0*S\n",
    "\n"
   ]
  },
  {
   "cell_type": "markdown",
   "id": "running-exclusion",
   "metadata": {},
   "source": [
    "## Reaction Gibbs energy profile: $\\Delta G^r_{0i}$"
   ]
  },
  {
   "cell_type": "code",
   "execution_count": null,
   "id": "present-protection",
   "metadata": {},
   "outputs": [],
   "source": [
    "def gibbs_profile(data,E0=1):\n",
    "    \"\"\"\n",
    "    Arguments:\n",
    "    data: tuple containing the elements\n",
    "          (x,n,s,gibs_flat)\n",
    "          or\n",
    "          (x,n,s,gibs_flat,cimbined)\n",
    "          where\n",
    "          \n",
    "          x: np.array. Contains the values for the x-axis\n",
    "          n: int. Number of species\n",
    "          s: float. Width of the distribution\n",
    "          gibbs_flat: boolean. True if the distribution \n",
    "                               for the Gibbs energy of reactions is flat.\n",
    "                               False, otherwise\n",
    "          combined: boolean. True if all the parameters follow\n",
    "                             non-flat distributions. False, otherwise\n",
    "    Returns: \n",
    "    \n",
    "    E: np.array containing the values for the Gibbs energy of reactions\n",
    "    \"\"\"\n",
    "    comb = False\n",
    "    if len(data) == 4:\n",
    "        x,s,n,gibbs_flat = data \n",
    "    else:\n",
    "        x,s,n,gibbs_flat,comb = data\n",
    "        \n",
    "    if comb:\n",
    "        E = np.exp(-(x-n/2)**2/(5*s**2*n**2)) + 1/6\n",
    "    else:\n",
    "        if gibbs_flat:\n",
    "            E = np.ones(n)\n",
    "        else:\n",
    "            E = np.exp(-(x-n/2)**2/(s**2*n**2)) + 1/6\n",
    "    \n",
    "    return E0*E \n",
    "\n"
   ]
  },
  {
   "cell_type": "markdown",
   "id": "modular-sister",
   "metadata": {},
   "source": [
    "# Lamber W-function "
   ]
  },
  {
   "cell_type": "code",
   "execution_count": null,
   "id": "elegant-guidance",
   "metadata": {},
   "outputs": [],
   "source": [
    "def LW(x,y):\n",
    "    \"\"\"\n",
    "    Arguments:\n",
    "    \n",
    "    x,y: np.arrays of the same size\n",
    "    \n",
    "    Returns: \n",
    "    np.array : $W(x e^y)$ \n",
    "               If y + ln(x) >= 5, the approximation to $W(z)$\n",
    "               derived in the Supplementary Information is employed\n",
    "    \"\"\"\n",
    "    \n",
    "    if not(isinstance(x,np.ndarray)):\n",
    "        x = np.array([x])\n",
    "    if not(isinstance(y,np.ndarray)):\n",
    "        y = np.array([y])\n",
    "    Z = y + np.log(x)\n",
    "    index = Z>=5\n",
    "    comp_index = np.logical_not(index)\n",
    "    lw = np.ones(len(x))\n",
    "    Z0 = Z[index]\n",
    "    h = Z0 - np.log(Z0)\n",
    "    lw[index] = h - h*(np.log(h) - np.log(Z0))/(1+h)\n",
    "    Z1 = Z[comp_index]\n",
    "    lw[comp_index] = np.real(sp.lambertw(np.exp(Z1)))\n",
    "    return lw\n"
   ]
  },
  {
   "cell_type": "markdown",
   "id": "settled-minneapolis",
   "metadata": {},
   "source": [
    "# Shannon Index (entropy)"
   ]
  },
  {
   "cell_type": "code",
   "execution_count": null,
   "id": "organizational-reach",
   "metadata": {},
   "outputs": [],
   "source": [
    "def H(P):\n",
    "    \n",
    "    \"\"\"\n",
    "    Arguments:\n",
    "    \n",
    "    P: np.array containing non-negative entries and such that \n",
    "       \\sum_i P_i = 1\n",
    "    \n",
    "    Returns: \n",
    "    \n",
    "     The Shannon entropy of the distribution P\n",
    "    \"\"\"\n",
    "    \n",
    "    P = P[P>0]\n",
    "    return -sum(P*(np.log(P))) \n"
   ]
  }
 ],
 "metadata": {
  "kernelspec": {
   "display_name": "Python 3",
   "language": "python",
   "name": "python3"
  },
  "language_info": {
   "codemirror_mode": {
    "name": "ipython",
    "version": 3
   },
   "file_extension": ".py",
   "mimetype": "text/x-python",
   "name": "python",
   "nbconvert_exporter": "python",
   "pygments_lexer": "ipython3",
   "version": "3.8.3"
  }
 },
 "nbformat": 4,
 "nbformat_minor": 5
}
